{
 "cells": [
  {
   "cell_type": "markdown",
   "metadata": {
    "colab_type": "text",
    "id": "lohciQkXjAP5"
   },
   "source": [

    "\n",
    "### Question Objectives -  Jena Flowers dataset \n",
    "\n",
    "- Build the baseline model and find accuracy.\n",
    "\n",
    "- Build a basic model with CNN layers.\n",
    "\n",
    "- Transfer learning model using VGG (use fine tuning approach)\n",
    "\n",
    "-  Analyze model performances for all models  "
   ]
  },
  {
   "cell_type": "markdown",
   "metadata": {
    "colab_type": "text",
    "id": "GoSKCky8hxIm"
   },
   "source": [
    "## Step 1: Import Libraries"
   ]
  },
  {
   "cell_type": "code",
   "execution_count": 0,
   "metadata": {
    "colab": {
     "base_uri": "https://localhost:8080/",
     "height": 34
    },
    "colab_type": "code",
    "id": "EGTIRtBFaBhN",
    "outputId": "6769d030-c748-4215-bfe0-556ee6df620d"
   },
   "outputs": [
    {
     "name": "stdout",
     "output_type": "stream",
     "text": [
      "1.14.0\n"
     ]
    }
   ],
   "source": [
    "import numpy as np\n",
    "import tensorflow as tf\n",
    "import os\n",
    "from numpy.random import seed\n",
    "seed(2)\n",
    "from tensorflow import set_random_seed\n",
    "set_random_seed(2)\n",
    "from tensorflow import keras\n",
    "from IPython import display\n",
    "import pandas as pd\n",
    "from tensorflow.python.data import Dataset\n",
    "from sklearn import preprocessing\n",
    "from sklearn.preprocessing import StandardScaler\n",
    "import matplotlib.pyplot as plt\n",
    "from keras.models import Sequential\n",
    "from keras.layers import Dense\n",
    "from keras.layers import Activation\n",
    "from keras.layers import Dropout, GaussianNoise, GaussianDropout\n",
    "from keras.layers import Flatten, BatchNormalization\n",
    "from keras.layers.convolutional import Conv2D, SeparableConv2D\n",
    "from keras.constraints import maxnorm\n",
    "from keras.layers.convolutional import MaxPooling2D\n",
    "from keras.utils import np_utils\n",
    "from keras import backend as K\n",
    "from keras import regularizers, optimizers\n",
    "print(tf.__version__)\n",
    "from keras.preprocessing.image import ImageDataGenerator\n",
    "import torchvision.transforms as transforms\n",
    "import torchvision.datasets as datasets\n",
    "from keras import models\n",
    "from keras import layers"
   ]
  },
  {
   "cell_type": "markdown",
   "metadata": {
    "colab_type": "text",
    "id": "CpPPQv7TjP7Q"
   },
   "source": [
    "## Mounting Google drive"
   ]
  },
  {
   "cell_type": "code",
   "execution_count": 0,
   "metadata": {
    "colab": {
     "base_uri": "https://localhost:8080/",
     "height": 34
    },
    "colab_type": "code",
    "id": "d1TU648c8pum",
    "outputId": "f100ce85-5576-430e-c294-daeae0be3109"
   },
   "outputs": [
    {
     "name": "stdout",
     "output_type": "stream",
     "text": [
      "Drive already mounted at /content/drive; to attempt to forcibly remount, call drive.mount(\"/content/drive\", force_remount=True).\n"
     ]
    }
   ],
   "source": [
    "from google.colab import drive\n",
    "drive.mount('/content/drive')"
   ]
  },
  {
   "cell_type": "code",
   "execution_count": 0,
   "metadata": {
    "colab": {
     "base_uri": "https://localhost:8080/",
     "height": 50
    },
    "colab_type": "code",
    "id": "muT2MviEChOP",
    "outputId": "7b9fc53d-aef8-4831-a0cc-4b9c36d8015a"
   },
   "outputs": [
    {
     "name": "stdout",
     "output_type": "stream",
     "text": [
      " assignment2_data\t\t 'Deep Learning'      separated_dataset.zip\n",
      " Assignment2_deepLearning.ipynb  'Machine Learning'\n"
     ]
    }
   ],
   "source": [
    "!ls \"/content/drive/My Drive/Colab Notebooks\""
   ]
  },
  {
   "cell_type": "markdown",
   "metadata": {
    "colab_type": "text",
    "id": "hgn2k1RYqgh7"
   },
   "source": [
    "## Step 2 : Import Data \n",
    "\n",
    "Importing all required images using ImageDataGenerator"
   ]
  },
  {
   "cell_type": "code",
   "execution_count": 0,
   "metadata": {
    "colab": {},
    "colab_type": "code",
    "id": "as6Gp4TEFLrr"
   },
   "outputs": [],
   "source": [
    "# create a data generator\n",
    "\n",
    "datagen = ImageDataGenerator(rescale=1./255,\n",
    "          rotation_range=5,\n",
    "          zoom_range=0.2)\n",
    "          #horizontal_flip=True)"
   ]
  },
  {
   "cell_type": "markdown",
   "metadata": {
    "colab_type": "text",
    "id": "1OkI07HXn5_m"
   },
   "source": [
    "##Step 3 : Preprocess data\n"
   ]
  },
  {
   "cell_type": "code",
   "execution_count": 0,
   "metadata": {
    "colab": {
     "base_uri": "https://localhost:8080/",
     "height": 67
    },
    "colab_type": "code",
    "id": "OJ0PX-jfHaCz",
    "outputId": "7c027c40-5972-4d76-b3e1-67373f256a5f"
   },
   "outputs": [
    {
     "name": "stdout",
     "output_type": "stream",
     "text": [
      "Found 921 images belonging to 30 classes.\n",
      "Found 279 images belonging to 30 classes.\n",
      "Found 279 images belonging to 30 classes.\n"
     ]
    }
   ],
   "source": [
    "# Considering training and testindata from image dataset\n",
    "\n",
    "# load and iterate training dataset\n",
    "train_it = datagen.flow_from_directory('/content/drive/My Drive/Colab Notebooks/assignment2_data/training1',target_size=(32, 32), class_mode='categorical', batch_size=64)\n",
    "\n",
    "# load and iterate validation dataset\n",
    "val_it = datagen.flow_from_directory('/content/drive/My Drive/Colab Notebooks/assignment2_data/testing1',target_size=(32, 32), class_mode='categorical', batch_size=64)\n",
    "\n",
    "# load and iterate test dataset\n",
    "test_it = datagen.flow_from_directory('/content/drive/My Drive/Colab Notebooks/assignment2_data/val1' ,target_size=(32, 32), class_mode='categorical', batch_size=64)"
   ]
  },
  {
   "cell_type": "markdown",
   "metadata": {
    "colab_type": "text",
    "id": "i-C0gD6HLOd0"
   },
   "source": [
    "## Step 4.1: Building Baseline model "
   ]
  },
  {
   "cell_type": "code",
   "execution_count": 0,
   "metadata": {
    "colab": {},
    "colab_type": "code",
    "id": "q-WOy6K4rpaC"
   },
   "outputs": [],
   "source": [
    "# define transformation that you wish to apply on image\n",
    "\n",
    "data_transforms = transforms.Compose([transforms.ToTensor()])"
   ]
  },
  {
   "cell_type": "code",
   "execution_count": 0,
   "metadata": {
    "colab": {},
    "colab_type": "code",
    "id": "S8NEDmK2rwk6"
   },
   "outputs": [],
   "source": [
    "# Comment 1 : Load the datasets with ImageFolder\n",
    "\n",
    "training_image_datasets = datasets.ImageFolder(root= \"/content/drive/My Drive/Colab Notebooks/assignment2_data/training1\", transform=data_transforms)\n",
    "validation_image_datasets = datasets.ImageFolder(root= \"/content/drive/My Drive/Colab Notebooks/assignment2_data/testing1\", transform=data_transforms)"
   ]
  },
  {
   "cell_type": "code",
   "execution_count": 0,
   "metadata": {
    "colab": {
     "base_uri": "https://localhost:8080/",
     "height": 34
    },
    "colab_type": "code",
    "id": "CPXYDRtlIdwf",
    "outputId": "244ad58f-521a-4a44-c4f2-409e24bb8bdd"
   },
   "outputs": [
    {
     "name": "stdout",
     "output_type": "stream",
     "text": [
      "Baseline model accuracy:  23.25 %\n"
     ]
    }
   ],
   "source": [
    "# Baseline Model \n",
    "\n",
    "baseline_model_accuracy =(len(validation_image_datasets)/(len(validation_image_datasets)+len(training_image_datasets)))*100\n",
    "print(\"Baseline model accuracy: \", baseline_model_accuracy, \"%\")"
   ]
  },
  {
   "cell_type": "markdown",
   "metadata": {
    "colab_type": "text",
    "id": "YQ-Vpu20mlzn"
   },
   "source": [
    "## Step 4.2: Building First model "
   ]
  },
  {
   "cell_type": "code",
   "execution_count": 0,
   "metadata": {
    "colab": {
     "base_uri": "https://localhost:8080/",
     "height": 306
    },
    "colab_type": "code",
    "id": "R97rlEjUoFCR",
    "outputId": "96343e36-c3fd-47b5-873c-a28a443f792a"
   },
   "outputs": [
    {
     "name": "stderr",
     "output_type": "stream",
     "text": [
      "WARNING: Logging before flag parsing goes to stderr.\n",
      "W0711 20:04:49.574700 139762512086912 deprecation_wrapper.py:119] From /usr/local/lib/python3.6/dist-packages/keras/backend/tensorflow_backend.py:74: The name tf.get_default_graph is deprecated. Please use tf.compat.v1.get_default_graph instead.\n",
      "\n",
      "W0711 20:04:49.578387 139762512086912 deprecation_wrapper.py:119] From /usr/local/lib/python3.6/dist-packages/keras/backend/tensorflow_backend.py:517: The name tf.placeholder is deprecated. Please use tf.compat.v1.placeholder instead.\n",
      "\n",
      "W0711 20:04:49.595182 139762512086912 deprecation_wrapper.py:119] From /usr/local/lib/python3.6/dist-packages/keras/backend/tensorflow_backend.py:4138: The name tf.random_uniform is deprecated. Please use tf.random.uniform instead.\n",
      "\n",
      "W0711 20:04:49.651069 139762512086912 deprecation_wrapper.py:119] From /usr/local/lib/python3.6/dist-packages/keras/backend/tensorflow_backend.py:133: The name tf.placeholder_with_default is deprecated. Please use tf.compat.v1.placeholder_with_default instead.\n",
      "\n",
      "W0711 20:04:49.662187 139762512086912 deprecation_wrapper.py:119] From /usr/local/lib/python3.6/dist-packages/keras/backend/tensorflow_backend.py:4115: The name tf.random_normal is deprecated. Please use tf.random.normal instead.\n",
      "\n",
      "W0711 20:04:49.688112 139762512086912 deprecation_wrapper.py:119] From /usr/local/lib/python3.6/dist-packages/keras/backend/tensorflow_backend.py:3976: The name tf.nn.max_pool is deprecated. Please use tf.nn.max_pool2d instead.\n",
      "\n",
      "W0711 20:04:49.738324 139762512086912 deprecation.py:506] From /usr/local/lib/python3.6/dist-packages/keras/backend/tensorflow_backend.py:3445: calling dropout (from tensorflow.python.ops.nn_ops) with keep_prob is deprecated and will be removed in a future version.\n",
      "Instructions for updating:\n",
      "Please use `rate` instead of `keep_prob`. Rate should be set to `rate = 1 - keep_prob`.\n"
     ]
    }
   ],
   "source": [
    "# Building model 1 \n",
    "\n",
    "model1 = Sequential()   \n",
    "model1.add(Conv2D(15, (3, 3), input_shape=[32,32,3], activation='relu'))\n",
    "model1.add(GaussianDropout(0.3))\n",
    "model1.add(Conv2D(30, (3, 3), activation='relu', kernel_constraint=maxnorm(3)))\n",
    "model1.add(MaxPooling2D(pool_size=(2, 2)))\n",
    "model1.add(Conv2D(30, (3, 3), activation='relu'))\n",
    "model1.add(MaxPooling2D(pool_size=(2, 2)))\n",
    "model1.add(Conv2D(50, (3, 3), activation='relu'))\n",
    "model1.add(Conv2D(50, (3, 3), activation='relu'))    \n",
    "model1.add(Dropout(0.2))\n",
    "model1.add(Flatten())\n",
    "model1.add(Dense(256, activation='relu', kernel_regularizer=regularizers.l2(0.01)))\n",
    "model1.add(Dense(128, activation='relu'))\n",
    "model1.add(Dense(128, activation='relu'))\n",
    "model1.add(Dense(50, activation='relu'))\n",
    "model1.add(Dense(30, activation='softmax', kernel_regularizer=regularizers.l2(0.0001)\n",
    "                   ,activity_regularizer=regularizers.l1(0.01)))"
   ]
  },
  {
   "cell_type": "code",
   "execution_count": 0,
   "metadata": {
    "colab": {
     "base_uri": "https://localhost:8080/",
     "height": 638
    },
    "colab_type": "code",
    "id": "0-zKLcDMMi-h",
    "outputId": "57de2822-35c4-40b1-f5c5-a343656b2780"
   },
   "outputs": [
    {
     "name": "stdout",
     "output_type": "stream",
     "text": [
      "_________________________________________________________________\n",
      "Layer (type)                 Output Shape              Param #   \n",
      "=================================================================\n",
      "conv2d_1 (Conv2D)            (None, 30, 30, 15)        420       \n",
      "_________________________________________________________________\n",
      "gaussian_dropout_1 (Gaussian (None, 30, 30, 15)        0         \n",
      "_________________________________________________________________\n",
      "conv2d_2 (Conv2D)            (None, 28, 28, 30)        4080      \n",
      "_________________________________________________________________\n",
      "max_pooling2d_1 (MaxPooling2 (None, 14, 14, 30)        0         \n",
      "_________________________________________________________________\n",
      "conv2d_3 (Conv2D)            (None, 12, 12, 30)        8130      \n",
      "_________________________________________________________________\n",
      "max_pooling2d_2 (MaxPooling2 (None, 6, 6, 30)          0         \n",
      "_________________________________________________________________\n",
      "conv2d_4 (Conv2D)            (None, 4, 4, 50)          13550     \n",
      "_________________________________________________________________\n",
      "conv2d_5 (Conv2D)            (None, 2, 2, 50)          22550     \n",
      "_________________________________________________________________\n",
      "dropout_1 (Dropout)          (None, 2, 2, 50)          0         \n",
      "_________________________________________________________________\n",
      "flatten_1 (Flatten)          (None, 200)               0         \n",
      "_________________________________________________________________\n",
      "dense_1 (Dense)              (None, 256)               51456     \n",
      "_________________________________________________________________\n",
      "dense_2 (Dense)              (None, 128)               32896     \n",
      "_________________________________________________________________\n",
      "dense_3 (Dense)              (None, 128)               16512     \n",
      "_________________________________________________________________\n",
      "dense_4 (Dense)              (None, 50)                6450      \n",
      "_________________________________________________________________\n",
      "dense_5 (Dense)              (None, 30)                1530      \n",
      "=================================================================\n",
      "Total params: 157,574\n",
      "Trainable params: 157,574\n",
      "Non-trainable params: 0\n",
      "_________________________________________________________________\n"
     ]
    }
   ],
   "source": [
    "model1.summary()"
   ]
  },
  {
   "cell_type": "code",
   "execution_count": 0,
   "metadata": {
    "colab": {},
    "colab_type": "code",
    "id": "W936nAGuOnRE"
   },
   "outputs": [],
   "source": [
    "from keras.callbacks import EarlyStopping, ModelCheckpoint\n",
    "\n",
    "es= EarlyStopping(monitor='val_loss', mode ='min', verbose = 0, patience = 20)\n",
    "mc = ModelCheckpoint('model.h5', monitor='val_loss', save_best_only = True, mode ='min', verbose = 0)"
   ]
  },
  {
   "cell_type": "code",
   "execution_count": 0,
   "metadata": {
    "colab": {
     "base_uri": "https://localhost:8080/",
     "height": 70
    },
    "colab_type": "code",
    "id": "JaVy_ediNa61",
    "outputId": "d8e3cb63-a7b5-4b53-b245-29716c303916"
   },
   "outputs": [
    {
     "name": "stderr",
     "output_type": "stream",
     "text": [
      "W0711 20:05:03.552465 139762512086912 deprecation_wrapper.py:119] From /usr/local/lib/python3.6/dist-packages/keras/optimizers.py:790: The name tf.train.Optimizer is deprecated. Please use tf.compat.v1.train.Optimizer instead.\n",
      "\n"
     ]
    }
   ],
   "source": [
    "# Compile model 1\n",
    "\n",
    "model1.compile(optimizer=tf.train.AdamOptimizer(), \n",
    "              loss='categorical_crossentropy',\n",
    "              metrics=['accuracy'])"
   ]
  },
  {
   "cell_type": "markdown",
   "metadata": {
    "colab_type": "text",
    "id": "PVaerXkBrbTy"
   },
   "source": [
    "### Fitting Model1 "
   ]
  },
  {
   "cell_type": "code",
   "execution_count": 0,
   "metadata": {
    "colab": {
     "base_uri": "https://localhost:8080/",
     "height": 1000
    },
    "colab_type": "code",
    "id": "BTKiX1pKOWM5",
    "outputId": "ee09d6fe-9e6d-45f6-fcc3-435ad26b25b5"
   },
   "outputs": [
    {
     "name": "stdout",
     "output_type": "stream",
     "text": [
      "Epoch 1/50\n",
      "15/15 [==============================] - 28s 2s/step - loss: 3.7465 - acc: 0.3010 - val_loss: 3.4725 - val_acc: 0.2545\n",
      "Epoch 2/50\n"
     ]
    },
    {
     "name": "stderr",
     "output_type": "stream",
     "text": [
      "/usr/local/lib/python3.6/dist-packages/keras/engine/saving.py:118: UserWarning: TensorFlow optimizers do not make it possible to access optimizer attributes or optimizer state after instantiation. As a result, we cannot save the optimizer as part of the model save file.You will have to compile your model again after loading it. Prefer using a Keras optimizer instead (see keras.io/optimizers).\n",
      "  'TensorFlow optimizers do not '\n"
     ]
    },
    {
     "name": "stdout",
     "output_type": "stream",
     "text": [
      "15/15 [==============================] - 23s 2s/step - loss: 3.0570 - acc: 0.3708 - val_loss: 3.0497 - val_acc: 0.3369\n",
      "Epoch 3/50\n",
      "15/15 [==============================] - 23s 2s/step - loss: 2.6886 - acc: 0.4344 - val_loss: 2.8189 - val_acc: 0.4194\n",
      "Epoch 4/50\n",
      "15/15 [==============================] - 23s 2s/step - loss: 2.5996 - acc: 0.4591 - val_loss: 2.7700 - val_acc: 0.4158\n",
      "Epoch 5/50\n",
      "15/15 [==============================] - 23s 2s/step - loss: 2.5721 - acc: 0.4487 - val_loss: 2.6830 - val_acc: 0.4229\n",
      "Epoch 6/50\n",
      "15/15 [==============================] - 23s 2s/step - loss: 2.4554 - acc: 0.4825 - val_loss: 2.6727 - val_acc: 0.4194\n",
      "Epoch 7/50\n",
      "15/15 [==============================] - 23s 2s/step - loss: 2.4667 - acc: 0.4622 - val_loss: 2.6120 - val_acc: 0.4373\n",
      "Epoch 8/50\n",
      "15/15 [==============================] - 23s 2s/step - loss: 2.4104 - acc: 0.4902 - val_loss: 2.6069 - val_acc: 0.4588\n",
      "Epoch 9/50\n",
      "15/15 [==============================] - 23s 2s/step - loss: 2.3315 - acc: 0.5071 - val_loss: 2.4580 - val_acc: 0.4588\n",
      "Epoch 10/50\n",
      "15/15 [==============================] - 23s 2s/step - loss: 2.2783 - acc: 0.5202 - val_loss: 2.4965 - val_acc: 0.4803\n",
      "Epoch 11/50\n",
      "15/15 [==============================] - 23s 2s/step - loss: 2.3034 - acc: 0.5145 - val_loss: 2.4793 - val_acc: 0.4695\n",
      "Epoch 12/50\n",
      "15/15 [==============================] - 23s 2s/step - loss: 2.2736 - acc: 0.5163 - val_loss: 2.4204 - val_acc: 0.4731\n",
      "Epoch 13/50\n",
      "15/15 [==============================] - 23s 2s/step - loss: 2.2558 - acc: 0.5138 - val_loss: 2.3554 - val_acc: 0.5197\n",
      "Epoch 14/50\n",
      "15/15 [==============================] - 23s 2s/step - loss: 2.1725 - acc: 0.5442 - val_loss: 2.3592 - val_acc: 0.4767\n",
      "Epoch 15/50\n",
      "15/15 [==============================] - 23s 2s/step - loss: 2.1420 - acc: 0.5478 - val_loss: 2.2801 - val_acc: 0.5484\n",
      "Epoch 16/50\n",
      "15/15 [==============================] - 23s 2s/step - loss: 2.0716 - acc: 0.5566 - val_loss: 2.2702 - val_acc: 0.4731\n",
      "Epoch 17/50\n",
      "15/15 [==============================] - 23s 2s/step - loss: 2.0475 - acc: 0.5750 - val_loss: 2.3020 - val_acc: 0.5161\n",
      "Epoch 18/50\n",
      "15/15 [==============================] - 23s 2s/step - loss: 2.0263 - acc: 0.5723 - val_loss: 2.1724 - val_acc: 0.5448\n",
      "Epoch 19/50\n",
      "15/15 [==============================] - 23s 2s/step - loss: 2.0089 - acc: 0.5875 - val_loss: 2.2088 - val_acc: 0.5090\n",
      "Epoch 20/50\n",
      "15/15 [==============================] - 23s 2s/step - loss: 1.9495 - acc: 0.6112 - val_loss: 2.2508 - val_acc: 0.5054\n",
      "Epoch 21/50\n",
      "15/15 [==============================] - 23s 2s/step - loss: 1.9809 - acc: 0.5827 - val_loss: 2.1983 - val_acc: 0.5090\n",
      "Epoch 22/50\n",
      "15/15 [==============================] - 23s 2s/step - loss: 1.9816 - acc: 0.5881 - val_loss: 2.1235 - val_acc: 0.5699\n",
      "Epoch 23/50\n",
      "15/15 [==============================] - 23s 2s/step - loss: 1.8536 - acc: 0.6327 - val_loss: 2.0963 - val_acc: 0.5735\n",
      "Epoch 24/50\n",
      "15/15 [==============================] - 23s 2s/step - loss: 1.9488 - acc: 0.6110 - val_loss: 2.2686 - val_acc: 0.5018\n",
      "Epoch 25/50\n",
      "15/15 [==============================] - 23s 2s/step - loss: 1.8876 - acc: 0.6065 - val_loss: 2.1211 - val_acc: 0.5484\n",
      "Epoch 26/50\n",
      "15/15 [==============================] - 23s 2s/step - loss: 1.8219 - acc: 0.6194 - val_loss: 2.0656 - val_acc: 0.5484\n",
      "Epoch 27/50\n",
      "15/15 [==============================] - 23s 2s/step - loss: 1.8025 - acc: 0.6563 - val_loss: 2.1073 - val_acc: 0.5305\n",
      "Epoch 28/50\n",
      "15/15 [==============================] - 23s 2s/step - loss: 1.7920 - acc: 0.6552 - val_loss: 1.9799 - val_acc: 0.5842\n",
      "Epoch 29/50\n",
      "15/15 [==============================] - 23s 2s/step - loss: 1.7385 - acc: 0.6631 - val_loss: 2.0010 - val_acc: 0.6201\n",
      "Epoch 30/50\n",
      "15/15 [==============================] - 23s 2s/step - loss: 1.7410 - acc: 0.6694 - val_loss: 1.9666 - val_acc: 0.5950\n",
      "Epoch 31/50\n",
      "15/15 [==============================] - 23s 2s/step - loss: 1.6630 - acc: 0.6778 - val_loss: 1.9698 - val_acc: 0.5806\n",
      "Epoch 32/50\n",
      "15/15 [==============================] - 23s 2s/step - loss: 1.6205 - acc: 0.6918 - val_loss: 1.9536 - val_acc: 0.5842\n",
      "Epoch 33/50\n",
      "15/15 [==============================] - 23s 2s/step - loss: 1.6356 - acc: 0.6751 - val_loss: 1.9277 - val_acc: 0.6057\n",
      "Epoch 34/50\n",
      "15/15 [==============================] - 23s 2s/step - loss: 1.6182 - acc: 0.7030 - val_loss: 1.8355 - val_acc: 0.6523\n",
      "Epoch 35/50\n",
      "15/15 [==============================] - 24s 2s/step - loss: 1.5797 - acc: 0.6907 - val_loss: 2.1766 - val_acc: 0.5269\n",
      "Epoch 36/50\n",
      "15/15 [==============================] - 23s 2s/step - loss: 1.6965 - acc: 0.6865 - val_loss: 1.9053 - val_acc: 0.6308\n",
      "Epoch 37/50\n",
      "15/15 [==============================] - 23s 2s/step - loss: 1.6348 - acc: 0.6830 - val_loss: 2.0092 - val_acc: 0.5735\n",
      "Epoch 38/50\n",
      "15/15 [==============================] - 23s 2s/step - loss: 1.6044 - acc: 0.7103 - val_loss: 2.0203 - val_acc: 0.5950\n",
      "Epoch 39/50\n",
      "15/15 [==============================] - 23s 2s/step - loss: 1.6066 - acc: 0.7053 - val_loss: 1.8568 - val_acc: 0.6308\n",
      "Epoch 40/50\n",
      "15/15 [==============================] - 23s 2s/step - loss: 1.5908 - acc: 0.7104 - val_loss: 1.8405 - val_acc: 0.6452\n",
      "Epoch 41/50\n",
      "15/15 [==============================] - 23s 2s/step - loss: 1.5550 - acc: 0.7292 - val_loss: 2.0013 - val_acc: 0.6165\n",
      "Epoch 42/50\n",
      "15/15 [==============================] - 23s 2s/step - loss: 1.5757 - acc: 0.7001 - val_loss: 1.8015 - val_acc: 0.6237\n",
      "Epoch 43/50\n",
      "15/15 [==============================] - 23s 2s/step - loss: 1.5667 - acc: 0.7031 - val_loss: 1.8452 - val_acc: 0.6882\n",
      "Epoch 44/50\n",
      "15/15 [==============================] - 23s 2s/step - loss: 1.5508 - acc: 0.7016 - val_loss: 1.8652 - val_acc: 0.6308\n",
      "Epoch 45/50\n",
      "15/15 [==============================] - 23s 2s/step - loss: 1.5190 - acc: 0.7183 - val_loss: 1.8616 - val_acc: 0.6272\n",
      "Epoch 46/50\n",
      "15/15 [==============================] - 23s 2s/step - loss: 1.5653 - acc: 0.7131 - val_loss: 1.9595 - val_acc: 0.5950\n",
      "Epoch 47/50\n",
      "15/15 [==============================] - 23s 2s/step - loss: 1.5406 - acc: 0.7127 - val_loss: 1.7818 - val_acc: 0.6523\n",
      "Epoch 48/50\n",
      "15/15 [==============================] - 23s 2s/step - loss: 1.3760 - acc: 0.7704 - val_loss: 1.7514 - val_acc: 0.6631\n",
      "Epoch 49/50\n",
      "15/15 [==============================] - 23s 2s/step - loss: 1.4112 - acc: 0.7386 - val_loss: 1.8754 - val_acc: 0.6237\n",
      "Epoch 50/50\n",
      "15/15 [==============================] - 23s 2s/step - loss: 1.4352 - acc: 0.7554 - val_loss: 1.8320 - val_acc: 0.6380\n"
     ]
    }
   ],
   "source": [
    "# Fitting model 1 \n",
    "\n",
    "model1_history = model1.fit_generator(generator=train_it, \n",
    "                    steps_per_epoch=len(train_it),\n",
    "                    validation_data=val_it,\n",
    "                    validation_steps=len(val_it),\n",
    "                    epochs=50,\n",
    "                    callbacks = [es, mc], \n",
    "                    use_multiprocessing = True,\n",
    "                    verbose=1)"
   ]
  },
  {
   "cell_type": "markdown",
   "metadata": {
    "colab_type": "text",
    "id": "7L4LXmpRrg-8"
   },
   "source": [
    "## Plotting Graph for model 1"
   ]
  },
  {
   "cell_type": "code",
   "execution_count": 0,
   "metadata": {
    "colab": {
     "base_uri": "https://localhost:8080/",
     "height": 283
    },
    "colab_type": "code",
    "id": "L_XkQhgJ1ppa",
    "outputId": "c562b883-bbb0-4da8-f89c-98988bd992ce"
   },
   "outputs": [
    {
     "data": {
      "image/png": "[encoded data removed]",
      "text/plain": [
       "<Figure size 432x288 with 1 Axes>"
      ]
     },
     "metadata": {
      "tags": []
     },
     "output_type": "display_data"
    }
   ],
   "source": [
    "\n",
    "#Plotting graph for accuracy \n",
    "\n",
    "def plot_history(history):\n",
    "  plt.figure()\n",
    "  plt.xlabel('Epoch')\n",
    "  plt.ylabel('Accuracy')\n",
    "  plt.plot(history.epoch, np.array(history.history['acc']),\n",
    "           label='Train Loss')\n",
    "  plt.plot(history.epoch, np.array(history.history['val_acc']),\n",
    "           label = 'Val loss')\n",
    "  plt.legend()\n",
    "  plt.ylim([0, 1])\n",
    "\n",
    "plot_history(model1_history)"
   ]
  },
  {
   "cell_type": "markdown",
   "metadata": {
    "colab_type": "text",
    "id": "H7gX7D2XpJ8N"
   },
   "source": [
    "##Step 4.3: Building Fine tuning model\n"
   ]
  },
  {
   "cell_type": "code",
   "execution_count": 0,
   "metadata": {
    "colab": {
     "base_uri": "https://localhost:8080/",
     "height": 50
    },
    "colab_type": "code",
    "id": "PWYNoNJZqbZQ",
    "outputId": "5d2f4cbd-c925-4855-bd3d-2cce4789d93b"
   },
   "outputs": [
    {
     "name": "stdout",
     "output_type": "stream",
     "text": [
      "Downloading data from https://github.com/fchollet/deep-learning-models/releases/download/v0.1/vgg16_weights_tf_dim_ordering_tf_kernels_notop.h5\n",
      "58892288/58889256 [==============================] - 2s 0us/step\n"
     ]
    }
   ],
   "source": [
    "from keras.applications import VGG16\n",
    "\n",
    "#Load the VGG model\n",
    "vgg_conv = VGG16(weights='imagenet', include_top=False, input_shape=(32, 32, 3))"
   ]
  },
  {
   "cell_type": "code",
   "execution_count": 0,
   "metadata": {
    "colab": {
     "base_uri": "https://localhost:8080/",
     "height": 336
    },
    "colab_type": "code",
    "id": "KkkU69NRufOY",
    "outputId": "584f4877-4e00-4877-fdf9-f4b1416698f5"
   },
   "outputs": [
    {
     "name": "stdout",
     "output_type": "stream",
     "text": [
      "<keras.engine.input_layer.InputLayer object at 0x7f1cbe0dcd68> False\n",
      "<keras.layers.convolutional.Conv2D object at 0x7f1cbe0dcda0> False\n",
      "<keras.layers.convolutional.Conv2D object at 0x7f1c6fe70438> False\n",
      "<keras.layers.pooling.MaxPooling2D object at 0x7f1c6fe873c8> False\n",
      "<keras.layers.convolutional.Conv2D object at 0x7f1c6fe70c50> False\n",
      "<keras.layers.convolutional.Conv2D object at 0x7f1c6fe31198> False\n",
      "<keras.layers.pooling.MaxPooling2D object at 0x7f1c6fe31a20> False\n",
      "<keras.layers.convolutional.Conv2D object at 0x7f1c6fe4a080> False\n",
      "<keras.layers.convolutional.Conv2D object at 0x7f1c6fde4240> False\n",
      "<keras.layers.convolutional.Conv2D object at 0x7f1c6fdf4a90> False\n",
      "<keras.layers.pooling.MaxPooling2D object at 0x7f1c6fe0cf60> False\n",
      "<keras.layers.convolutional.Conv2D object at 0x7f1c6fda56d8> False\n",
      "<keras.layers.convolutional.Conv2D object at 0x7f1c6fdd03c8> False\n",
      "<keras.layers.convolutional.Conv2D object at 0x7f1c6fdd0c88> False\n",
      "<keras.layers.pooling.MaxPooling2D object at 0x7f1c6fd82d30> False\n",
      "<keras.layers.convolutional.Conv2D object at 0x7f1c6fd82550> True\n",
      "<keras.layers.convolutional.Conv2D object at 0x7f1c6fd2f2b0> True\n",
      "<keras.layers.convolutional.Conv2D object at 0x7f1cc66fb390> True\n",
      "<keras.layers.pooling.MaxPooling2D object at 0x7f1cbe14ba90> True\n"
     ]
    }
   ],
   "source": [
    "# Freeze the layers except the last 4 layers\n",
    "\n",
    "for layer in vgg_conv.layers[:-4]:\n",
    "    layer.trainable = False\n",
    "\n",
    "# Check the trainable status of the individual layers\n",
    "\n",
    "for layer in vgg_conv.layers:\n",
    "    print(layer, layer.trainable)"
   ]
  },
  {
   "cell_type": "code",
   "execution_count": 0,
   "metadata": {
    "colab": {
     "base_uri": "https://localhost:8080/",
     "height": 50
    },
    "colab_type": "code",
    "id": "-UJxzdTNvDS-",
    "outputId": "35edcf9b-e152-4cfe-97a4-c0337e7d2b6e"
   },
   "outputs": [
    {
     "name": "stdout",
     "output_type": "stream",
     "text": [
      "Found 921 images belonging to 30 classes.\n",
      "Found 279 images belonging to 30 classes.\n"
     ]
    }
   ],
   "source": [
    "# create a data generator\n",
    "  \n",
    "train_datagen = ImageDataGenerator(\n",
    "      rescale=1./255,\n",
    "      rotation_range=20,\n",
    "      width_shift_range=0.2,\n",
    "      height_shift_range=0.2,\n",
    "      horizontal_flip=True,\n",
    "      fill_mode='nearest')\n",
    " \n",
    "validation_datagen = ImageDataGenerator(rescale=1./255)\n",
    " \n",
    "# Change the batchsize according to your system RAM\n",
    "train_batchsize = 100\n",
    "val_batchsize = 10\n",
    "\n",
    "# load and iterate training dataset\n",
    " \n",
    "train_generator = train_datagen.flow_from_directory('/content/drive/My Drive/Colab Notebooks/assignment2_data/training1',                                                  \n",
    "                                                    target_size=(32,32),\n",
    "                                                    batch_size=64,\n",
    "                                                    class_mode='categorical')\n",
    " \n",
    "# load and iterate validation dataset\n",
    "\n",
    "validation_generator = validation_datagen.flow_from_directory('/content/drive/My Drive/Colab Notebooks/assignment2_data/testing1',\n",
    "                                                              target_size=(32,32),\n",
    "                                                              batch_size=64,\n",
    "                                                              class_mode='categorical',\n",
    "                                                              shuffle=False)"
   ]
  },
  {
   "cell_type": "code",
   "execution_count": 0,
   "metadata": {
    "colab": {
     "base_uri": "https://localhost:8080/",
     "height": 302
    },
    "colab_type": "code",
    "id": "nQ6LV0xbuwem",
    "outputId": "e43aafa4-29eb-4640-9443-2b9dc555800d"
   },
   "outputs": [
    {
     "name": "stdout",
     "output_type": "stream",
     "text": [
      "_________________________________________________________________\n",
      "Layer (type)                 Output Shape              Param #   \n",
      "=================================================================\n",
      "vgg16 (Model)                (None, 1, 1, 512)         14714688  \n",
      "_________________________________________________________________\n",
      "flatten_8 (Flatten)          (None, 512)               0         \n",
      "_________________________________________________________________\n",
      "dense_22 (Dense)             (None, 1024)              525312    \n",
      "_________________________________________________________________\n",
      "dropout_12 (Dropout)         (None, 1024)              0         \n",
      "_________________________________________________________________\n",
      "dense_23 (Dense)             (None, 30)                30750     \n",
      "=================================================================\n",
      "Total params: 15,270,750\n",
      "Trainable params: 7,635,486\n",
      "Non-trainable params: 7,635,264\n",
      "_________________________________________________________________\n"
     ]
    }
   ],
   "source": [
    "# Create the fine tuning model\n",
    "fine_tuning_model = models.Sequential()\n",
    " \n",
    "# Add the vgg convolutional base model\n",
    "fine_tuning_model.add(vgg_conv)\n",
    " \n",
    "# Add new layers\n",
    "fine_tuning_model.add(layers.Flatten())\n",
    "fine_tuning_model.add(layers.Dense(1024, activation='relu'))\n",
    "fine_tuning_model.add(layers.Dropout(0.5))\n",
    "fine_tuning_model.add(layers.Dense(30, activation='softmax'))\n",
    " \n",
    "# Show a summary of the model. Check the number of trainable parameters\n",
    "fine_tuning_model.summary()"
   ]
  },
  {
   "cell_type": "code",
   "execution_count": 0,
   "metadata": {
    "colab": {
     "base_uri": "https://localhost:8080/",
     "height": 134
    },
    "colab_type": "code",
    "id": "t4TGQKebGcFH",
    "outputId": "7be5ee8d-28aa-45c1-d768-ed44ac28f49d"
   },
   "outputs": [
    {
     "name": "stdout",
     "output_type": "stream",
     "text": [
      "[[0. 0. 0. ... 0. 0. 0.]\n",
      " [0. 0. 0. ... 0. 0. 0.]\n",
      " [0. 0. 0. ... 0. 0. 0.]\n",
      " ...\n",
      " [0. 0. 0. ... 0. 0. 0.]\n",
      " [0. 0. 0. ... 0. 0. 0.]\n",
      " [0. 0. 0. ... 0. 0. 0.]]\n"
     ]
    }
   ],
   "source": [
    "X_val_sample, val_labels = next(train_generator)\n",
    "print(val_labels)"
   ]
  },
  {
   "cell_type": "code",
   "execution_count": 0,
   "metadata": {
    "colab": {},
    "colab_type": "code",
    "id": "QVdJp9Jf9Uek"
   },
   "outputs": [],
   "source": [
    "# Compile the fine tuning model\n",
    "\n",
    "fine_tuning_model.compile(loss='categorical_crossentropy',\n",
    "              optimizer=optimizers.RMSprop(lr=1e-4),\n",
    "              metrics=['acc'])"
   ]
  },
  {
   "cell_type": "markdown",
   "metadata": {
    "colab_type": "text",
    "id": "KRSplB7drqYF"
   },
   "source": [
    "## Fitting Fine tuning model"
   ]
  },
  {
   "cell_type": "code",
   "execution_count": 0,
   "metadata": {
    "colab": {
     "base_uri": "https://localhost:8080/",
     "height": 1000
    },
    "colab_type": "code",
    "id": "Xj8pjDOx9iCB",
    "outputId": "08cece27-0cc6-4525-d76f-86f6000aa236"
   },
   "outputs": [
    {
     "name": "stdout",
     "output_type": "stream",
     "text": [
      "Epoch 1/30\n",
      "15/14 [===============================] - 78s 5s/step - loss: 1.7231 - acc: 0.4759 - val_loss: 1.7018 - val_acc: 0.4767\n",
      "Epoch 2/30\n",
      "15/14 [===============================] - 65s 4s/step - loss: 1.8064 - acc: 0.4798 - val_loss: 1.3367 - val_acc: 0.6129\n",
      "Epoch 3/30\n",
      "15/14 [===============================] - 66s 4s/step - loss: 1.7179 - acc: 0.4967 - val_loss: 1.4280 - val_acc: 0.5591\n",
      "Epoch 4/30\n",
      "15/14 [===============================] - 65s 4s/step - loss: 1.6903 - acc: 0.5144 - val_loss: 1.4946 - val_acc: 0.5233\n",
      "Epoch 5/30\n",
      "15/14 [===============================] - 65s 4s/step - loss: 1.8362 - acc: 0.4707 - val_loss: 1.5905 - val_acc: 0.5305\n",
      "Epoch 6/30\n",
      "15/14 [===============================] - 66s 4s/step - loss: 1.6347 - acc: 0.4966 - val_loss: 1.5460 - val_acc: 0.5412\n",
      "Epoch 7/30\n",
      "15/14 [===============================] - 66s 4s/step - loss: 1.6742 - acc: 0.5040 - val_loss: 1.8323 - val_acc: 0.4839\n",
      "Epoch 8/30\n",
      "15/14 [===============================] - 66s 4s/step - loss: 1.8371 - acc: 0.4585 - val_loss: 1.8123 - val_acc: 0.4480\n",
      "Epoch 9/30\n",
      "15/14 [===============================] - 66s 4s/step - loss: 1.8393 - acc: 0.4945 - val_loss: 1.6337 - val_acc: 0.4839\n",
      "Epoch 10/30\n",
      "15/14 [===============================] - 65s 4s/step - loss: 1.8924 - acc: 0.4503 - val_loss: 1.8676 - val_acc: 0.4229\n",
      "Epoch 11/30\n",
      "15/14 [===============================] - 66s 4s/step - loss: 1.6251 - acc: 0.5059 - val_loss: 1.9668 - val_acc: 0.4444\n",
      "Epoch 12/30\n",
      "15/14 [===============================] - 66s 4s/step - loss: 2.2064 - acc: 0.3725 - val_loss: 1.5796 - val_acc: 0.5269\n",
      "Epoch 13/30\n",
      "15/14 [===============================] - 65s 4s/step - loss: 1.6687 - acc: 0.5184 - val_loss: 2.0538 - val_acc: 0.4158\n",
      "Epoch 14/30\n",
      "15/14 [===============================] - 66s 4s/step - loss: 1.9876 - acc: 0.4423 - val_loss: 1.7446 - val_acc: 0.4803\n",
      "Epoch 15/30\n",
      "15/14 [===============================] - 65s 4s/step - loss: 1.9575 - acc: 0.4518 - val_loss: 2.3439 - val_acc: 0.3728\n",
      "Epoch 16/30\n",
      "15/14 [===============================] - 65s 4s/step - loss: 1.9610 - acc: 0.4631 - val_loss: 1.9390 - val_acc: 0.4444\n",
      "Epoch 17/30\n",
      "15/14 [===============================] - 66s 4s/step - loss: 1.8337 - acc: 0.4723 - val_loss: 1.5255 - val_acc: 0.5520\n",
      "Epoch 18/30\n",
      "15/14 [===============================] - 66s 4s/step - loss: 2.0550 - acc: 0.4397 - val_loss: 1.4613 - val_acc: 0.5591\n",
      "Epoch 19/30\n",
      "15/14 [===============================] - 65s 4s/step - loss: 1.7758 - acc: 0.4703 - val_loss: 1.4728 - val_acc: 0.5663\n",
      "Epoch 20/30\n",
      "15/14 [===============================] - 65s 4s/step - loss: 1.9345 - acc: 0.4495 - val_loss: 1.4265 - val_acc: 0.5090\n",
      "Epoch 21/30\n",
      "15/14 [===============================] - 66s 4s/step - loss: 2.0296 - acc: 0.4554 - val_loss: 1.9909 - val_acc: 0.4050\n",
      "Epoch 22/30\n",
      "15/14 [===============================] - 66s 4s/step - loss: 2.0251 - acc: 0.4418 - val_loss: 1.7510 - val_acc: 0.4839\n",
      "Epoch 23/30\n",
      "15/14 [===============================] - 65s 4s/step - loss: 2.0796 - acc: 0.3924 - val_loss: 1.7734 - val_acc: 0.4875\n",
      "Epoch 24/30\n",
      "15/14 [===============================] - 65s 4s/step - loss: 2.1520 - acc: 0.3874 - val_loss: 2.3427 - val_acc: 0.3118\n",
      "Epoch 25/30\n",
      "15/14 [===============================] - 66s 4s/step - loss: 2.2036 - acc: 0.3760 - val_loss: 2.3195 - val_acc: 0.3978\n",
      "Epoch 26/30\n",
      "15/14 [===============================] - 66s 4s/step - loss: 2.3833 - acc: 0.3329 - val_loss: 1.8280 - val_acc: 0.4337\n",
      "Epoch 27/30\n",
      "15/14 [===============================] - 65s 4s/step - loss: 2.0931 - acc: 0.3912 - val_loss: 1.7150 - val_acc: 0.5305\n",
      "Epoch 28/30\n",
      "15/14 [===============================] - 66s 4s/step - loss: 2.6838 - acc: 0.3022 - val_loss: 1.8282 - val_acc: 0.4229\n",
      "Epoch 29/30\n",
      "15/14 [===============================] - 66s 4s/step - loss: 2.1243 - acc: 0.3824 - val_loss: 2.2023 - val_acc: 0.3584\n",
      "Epoch 30/30\n",
      "15/14 [===============================] - 65s 4s/step - loss: 2.2235 - acc: 0.3709 - val_loss: 2.1488 - val_acc: 0.4050\n"
     ]
    }
   ],
   "source": [
    "# Train the fine tuning model\n",
    "\n",
    "fine_tuning_model_history = fine_tuning_model.fit_generator(train_generator,\n",
    "                                                            steps_per_epoch=train_generator.samples/train_generator.batch_size ,\n",
    "                                                            epochs=30,\n",
    "                                                            validation_data=validation_generator,\n",
    "                                                            validation_steps=validation_generator.samples/validation_generator.batch_size,\n",
    "                                                            verbose=1)\n",
    " \n",
    "# Save the model\n",
    "fine_tuning_model.save('small_last4.h5')"
   ]
  },
  {
   "cell_type": "markdown",
   "metadata": {
    "colab_type": "text",
    "id": "9q6NdTNMrwU6"
   },
   "source": [
    "## Plotting graph for fine tuning model"
   ]
  },
  {
   "cell_type": "code",
   "execution_count": 0,
   "metadata": {
    "colab": {
     "base_uri": "https://localhost:8080/",
     "height": 545
    },
    "colab_type": "code",
    "id": "7NtuWroc-CYD",
    "outputId": "0877daca-0db3-4953-e362-8d2ca236ddfc"
   },
   "outputs": [
    {
     "data": {
      "image/png": "[encoded data removed]",
      "text/plain": [
       "<Figure size 432x288 with 1 Axes>"
      ]
     },
     "metadata": {
      "tags": []
     },
     "output_type": "display_data"
    },
    {
     "data": {
      "image/png": "[encoded data removed]",
      "text/plain": [
       "<Figure size 432x288 with 1 Axes>"
      ]
     },
     "metadata": {
      "tags": []
     },
     "output_type": "display_data"
    }
   ],
   "source": [
    "acc = fine_tuning_model_history.history['acc']\n",
    "val_acc = fine_tuning_model_history.history['val_acc']\n",
    "loss = fine_tuning_model_history.history['loss']\n",
    "val_loss = fine_tuning_model_history.history['val_loss']\n",
    " \n",
    "epochs = range(len(acc))\n",
    " \n",
    "plt.plot(epochs, acc, 'b', label='Training acc')\n",
    "plt.plot(epochs, val_acc, 'r', label='Validation acc')\n",
    "plt.title('Training and validation accuracy')\n",
    "plt.legend()\n",
    " \n",
    "plt.figure()\n",
    " \n",
    "plt.plot(epochs, loss, 'b', label='Training loss')\n",
    "plt.plot(epochs, val_loss, 'r', label='Validation loss')\n",
    "plt.title('Training and validation loss')\n",
    "plt.legend()\n",
    " \n",
    "plt.show()"
   ]
  },
  {
   "cell_type": "code",
   "execution_count": 0,
   "metadata": {
    "colab": {
     "base_uri": "https://localhost:8080/",
     "height": 283
    },
    "colab_type": "code",
    "id": "GMHeSH6Np5gM",
    "outputId": "61b33f11-c401-4a36-f7e0-53ac9cb0242b"
   },
   "outputs": [
    {
     "data": {
      "image/png": "[encoded data removed]",
      "text/plain": [
       "<Figure size 432x288 with 1 Axes>"
      ]
     },
     "metadata": {
      "tags": []
     },
     "output_type": "display_data"
    }
   ],
   "source": [
    "def plot_history(history):\n",
    "  plt.figure()\n",
    "  plt.xlabel('Epoch')\n",
    "  plt.ylabel('Accuracy')\n",
    "  plt.plot(history.epoch, np.array(history.history['acc']),\n",
    "           label='Train Loss')\n",
    "  plt.plot(history.epoch, np.array(history.history['val_acc']),\n",
    "           label = 'Val loss')\n",
    "  plt.legend()\n",
    "  plt.ylim([0, 1])\n",
    "\n",
    "plot_history(fine_tuning_model_history)"
   ]
  },
  {
   "cell_type": "markdown",
   "metadata": {
    "colab_type": "text",
    "id": "mDozJ7_zr7Lc"
   },
   "source": [
    "## Analysis of all models (Model Comparison Assignment 2)\n",
    "\n",
    "- From above models, we can see that, we are getting accuracy of 23.25%  with baseline model. \n",
    "\n",
    "- After building and fitting CNN model and fine tuning model, we are getting accuracy more than baseline model for all models which is upto 68% and 53% respectively."
   ]
  }
 ],
 "metadata": {
  "colab": {
   "collapsed_sections": [],
   
   "provenance": [],
   "version": "0.3.2"
  },
  "kernelspec": {
   "display_name": "Python 3",
   "language": "python",
   "name": "python3"
  },
  "language_info": {
   "codemirror_mode": {
    "name": "ipython",
    "version": 3
   },
   "file_extension": ".py",
   "mimetype": "text/x-python",
   "name": "python",
   "nbconvert_exporter": "python",
   "pygments_lexer": "ipython3",
   "version": "3.7.3"
  }
 },
 "nbformat": 4,
 "nbformat_minor": 1
}
